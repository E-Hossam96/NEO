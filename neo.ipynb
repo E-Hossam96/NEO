{
 "cells": [
  {
   "cell_type": "code",
   "execution_count": 1,
   "metadata": {},
   "outputs": [],
   "source": [
    "import json\n",
    "import csv"
   ]
  },
  {
   "cell_type": "code",
   "execution_count": 2,
   "metadata": {},
   "outputs": [
    {
     "data": {
      "text/plain": [
       "dict_keys(['signature', 'count', 'fields', 'data'])"
      ]
     },
     "execution_count": 2,
     "metadata": {},
     "output_type": "execute_result"
    }
   ],
   "source": [
    "with open('data/cad.json', 'r') as fid_json:\n",
    "    cad = json.load(fid_json)\n",
    "\n",
    "cad.keys()"
   ]
  },
  {
   "cell_type": "code",
   "execution_count": 3,
   "metadata": {},
   "outputs": [
    {
     "data": {
      "text/plain": [
       "['des',\n",
       " 'orbit_id',\n",
       " 'jd',\n",
       " 'cd',\n",
       " 'dist',\n",
       " 'dist_min',\n",
       " 'dist_max',\n",
       " 'v_rel',\n",
       " 'v_inf',\n",
       " 't_sigma_f',\n",
       " 'h']"
      ]
     },
     "execution_count": 3,
     "metadata": {},
     "output_type": "execute_result"
    }
   ],
   "source": [
    "cad['fields']"
   ]
  },
  {
   "cell_type": "code",
   "execution_count": 4,
   "metadata": {},
   "outputs": [
    {
     "data": {
      "text/plain": [
       "[['170903',\n",
       "  '105',\n",
       "  '2415020.507669610',\n",
       "  '1900-Jan-01 00:11',\n",
       "  '0.0921795123769547',\n",
       "  '0.0912006569517418',\n",
       "  '0.0931589328621254',\n",
       "  '16.7523040362574',\n",
       "  '16.7505784933163',\n",
       "  '01:00',\n",
       "  '18.1'],\n",
       " ['2005 OE3',\n",
       "  '52',\n",
       "  '2415020.606013490',\n",
       "  '1900-Jan-01 02:33',\n",
       "  '0.414975519685102',\n",
       "  '0.414968315685577',\n",
       "  '0.414982724454678',\n",
       "  '17.918395877175',\n",
       "  '17.9180375373357',\n",
       "  '< 00:01',\n",
       "  '20.3']]"
      ]
     },
     "execution_count": 4,
     "metadata": {},
     "output_type": "execute_result"
    }
   ],
   "source": [
    "cad['data'][:2]"
   ]
  },
  {
   "cell_type": "code",
   "execution_count": 5,
   "metadata": {},
   "outputs": [
    {
     "data": {
      "text/plain": [
       "[['id',\n",
       "  'spkid',\n",
       "  'full_name',\n",
       "  'pdes',\n",
       "  'name',\n",
       "  'prefix',\n",
       "  'neo',\n",
       "  'pha',\n",
       "  'H',\n",
       "  'G',\n",
       "  'M1',\n",
       "  'M2',\n",
       "  'K1',\n",
       "  'K2',\n",
       "  'PC',\n",
       "  'diameter',\n",
       "  'extent',\n",
       "  'albedo',\n",
       "  'rot_per',\n",
       "  'GM',\n",
       "  'BV',\n",
       "  'UB',\n",
       "  'IR',\n",
       "  'spec_B',\n",
       "  'spec_T',\n",
       "  'H_sigma',\n",
       "  'diameter_sigma',\n",
       "  'orbit_id',\n",
       "  'epoch',\n",
       "  'epoch_mjd',\n",
       "  'epoch_cal',\n",
       "  'equinox',\n",
       "  'e',\n",
       "  'a',\n",
       "  'q',\n",
       "  'i',\n",
       "  'om',\n",
       "  'w',\n",
       "  'ma',\n",
       "  'ad',\n",
       "  'n',\n",
       "  'tp',\n",
       "  'tp_cal',\n",
       "  'per',\n",
       "  'per_y',\n",
       "  'moid',\n",
       "  'moid_ld',\n",
       "  'moid_jup',\n",
       "  't_jup',\n",
       "  'sigma_e',\n",
       "  'sigma_a',\n",
       "  'sigma_q',\n",
       "  'sigma_i',\n",
       "  'sigma_om',\n",
       "  'sigma_w',\n",
       "  'sigma_ma',\n",
       "  'sigma_ad',\n",
       "  'sigma_n',\n",
       "  'sigma_tp',\n",
       "  'sigma_per',\n",
       "  'class',\n",
       "  'producer',\n",
       "  'data_arc',\n",
       "  'first_obs',\n",
       "  'last_obs',\n",
       "  'n_obs_used',\n",
       "  'n_del_obs_used',\n",
       "  'n_dop_obs_used',\n",
       "  'condition_code',\n",
       "  'rms',\n",
       "  'two_body',\n",
       "  'A1',\n",
       "  'A2',\n",
       "  'A3',\n",
       "  'DT'],\n",
       " ['a0000433',\n",
       "  '2000433',\n",
       "  '   433 Eros (A898 PA)',\n",
       "  '433',\n",
       "  'Eros',\n",
       "  '',\n",
       "  'Y',\n",
       "  'N',\n",
       "  '10.4',\n",
       "  '0.46',\n",
       "  '',\n",
       "  '',\n",
       "  '',\n",
       "  '',\n",
       "  '',\n",
       "  '16.84',\n",
       "  '34.4x11.2x11.2',\n",
       "  '0.25',\n",
       "  '5.270',\n",
       "  '4.463e-04',\n",
       "  '0.921',\n",
       "  '0.531',\n",
       "  '',\n",
       "  'S',\n",
       "  'S',\n",
       "  '',\n",
       "  '0.06',\n",
       "  'JPL 658',\n",
       "  '2459000.5',\n",
       "  '59000',\n",
       "  '20200531.0000000',\n",
       "  'J2000',\n",
       "  '.2229512647434284',\n",
       "  '1.458045729081037',\n",
       "  '1.132972589728666',\n",
       "  '10.83054121829922',\n",
       "  '304.2993259000444',\n",
       "  '178.8822959227224',\n",
       "  '271.0717325705167',\n",
       "  '1.783118868433408',\n",
       "  '.5598186418120109',\n",
       "  '2459159.351922368362',\n",
       "  '20201105.8519224',\n",
       "  '643.0654021001488',\n",
       "  '1.76061711731731',\n",
       "  '.148623',\n",
       "  '57.83961291',\n",
       "  '3.2865',\n",
       "  '4.582',\n",
       "  '9.6497E-9',\n",
       "  '2.1374E-10',\n",
       "  '1.4063E-8',\n",
       "  '1.1645E-6',\n",
       "  '3.8525E-6',\n",
       "  '4.088E-6',\n",
       "  '1.4389E-6',\n",
       "  '2.6139E-10',\n",
       "  '1.231E-10',\n",
       "  '2.5792E-6',\n",
       "  '1.414E-7',\n",
       "  'AMO',\n",
       "  'Giorgini',\n",
       "  '46330',\n",
       "  '1893-10-29',\n",
       "  '2020-09-03',\n",
       "  '8767',\n",
       "  '4',\n",
       "  '2',\n",
       "  '0',\n",
       "  '.28397',\n",
       "  '',\n",
       "  '',\n",
       "  '',\n",
       "  '',\n",
       "  '']]"
      ]
     },
     "execution_count": 5,
     "metadata": {},
     "output_type": "execute_result"
    }
   ],
   "source": [
    "neos = []\n",
    "with open('data/neos.csv', 'r') as fid_csv:\n",
    "    reader = csv.reader(fid_csv)\n",
    "    for line in reader: neos.append(line)\n",
    "\n",
    "neos[:2]"
   ]
  },
  {
   "cell_type": "code",
   "execution_count": 6,
   "metadata": {},
   "outputs": [
    {
     "data": {
      "text/plain": [
       "['a0000433',\n",
       " '2000433',\n",
       " '   433 Eros (A898 PA)',\n",
       " '433',\n",
       " 'Eros',\n",
       " '',\n",
       " 'Y',\n",
       " 'N',\n",
       " '10.4',\n",
       " '0.46',\n",
       " '',\n",
       " '',\n",
       " '',\n",
       " '',\n",
       " '',\n",
       " '16.84',\n",
       " '34.4x11.2x11.2',\n",
       " '0.25',\n",
       " '5.270',\n",
       " '4.463e-04',\n",
       " '0.921',\n",
       " '0.531',\n",
       " '',\n",
       " 'S',\n",
       " 'S',\n",
       " '',\n",
       " '0.06',\n",
       " 'JPL 658',\n",
       " '2459000.5',\n",
       " '59000',\n",
       " '20200531.0000000',\n",
       " 'J2000',\n",
       " '.2229512647434284',\n",
       " '1.458045729081037',\n",
       " '1.132972589728666',\n",
       " '10.83054121829922',\n",
       " '304.2993259000444',\n",
       " '178.8822959227224',\n",
       " '271.0717325705167',\n",
       " '1.783118868433408',\n",
       " '.5598186418120109',\n",
       " '2459159.351922368362',\n",
       " '20201105.8519224',\n",
       " '643.0654021001488',\n",
       " '1.76061711731731',\n",
       " '.148623',\n",
       " '57.83961291',\n",
       " '3.2865',\n",
       " '4.582',\n",
       " '9.6497E-9',\n",
       " '2.1374E-10',\n",
       " '1.4063E-8',\n",
       " '1.1645E-6',\n",
       " '3.8525E-6',\n",
       " '4.088E-6',\n",
       " '1.4389E-6',\n",
       " '2.6139E-10',\n",
       " '1.231E-10',\n",
       " '2.5792E-6',\n",
       " '1.414E-7',\n",
       " 'AMO',\n",
       " 'Giorgini',\n",
       " '46330',\n",
       " '1893-10-29',\n",
       " '2020-09-03',\n",
       " '8767',\n",
       " '4',\n",
       " '2',\n",
       " '0',\n",
       " '.28397',\n",
       " '',\n",
       " '',\n",
       " '',\n",
       " '',\n",
       " '']"
      ]
     },
     "execution_count": 6,
     "metadata": {},
     "output_type": "execute_result"
    }
   ],
   "source": [
    "neos[1]"
   ]
  },
  {
   "cell_type": "code",
   "execution_count": 7,
   "metadata": {},
   "outputs": [],
   "source": [
    "# import pandas as pd\n",
    "\n",
    "# neos = pd.read_csv('data/neos.csv')\n",
    "\n",
    "# neos.head()"
   ]
  }
 ],
 "metadata": {
  "kernelspec": {
   "display_name": "Python 3.9.12 ('base')",
   "language": "python",
   "name": "python3"
  },
  "language_info": {
   "codemirror_mode": {
    "name": "ipython",
    "version": 3
   },
   "file_extension": ".py",
   "mimetype": "text/x-python",
   "name": "python",
   "nbconvert_exporter": "python",
   "pygments_lexer": "ipython3",
   "version": "3.9.12"
  },
  "orig_nbformat": 4,
  "vscode": {
   "interpreter": {
    "hash": "0d65d99df97b6cfb344dc3baa8c6231a78ce1274520b01ad9b5bd5ec718ab994"
   }
  }
 },
 "nbformat": 4,
 "nbformat_minor": 2
}
